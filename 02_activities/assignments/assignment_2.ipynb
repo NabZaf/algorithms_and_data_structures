{
 "cells": [
  {
   "cell_type": "markdown",
   "metadata": {},
   "source": [
    "# Practice Interview\n",
    "\n",
    "## Objective\n",
    "\n",
    "_*The partner assignment aims to provide participants with the opportunity to practice coding in an interview context. You will analyze your partner's Assignment 1. Moreover, code reviews are common practice in a software development team. This assignment should give you a taste of the code review process.*_\n",
    "\n",
    "## Group Size\n",
    "\n",
    "Each group should have 2 people. You will be assigned a partner\n",
    "\n",
    "## Part 1:\n",
    "\n",
    "You and your partner must share each other's Assignment 1 submission."
   ]
  },
  {
   "cell_type": "markdown",
   "metadata": {},
   "source": [
    "\n",
    "## Part 2:\n",
    "\n",
    "Create a Jupyter Notebook, create 6 of the following headings, and complete the following for your partner's assignment 1:\n",
    "\n",
    "-   Paraphrase the problem in your own words.\n"
   ]
  },
  {
   "cell_type": "code",
   "execution_count": 1,
   "metadata": {},
   "outputs": [],
   "source": [
    "# Your answer here\n",
    "#The code aims to solve the problem of finding all root-to-leaf paths in a binary tree. It constructs a binary tree from a list of values and then uses depth-first search (DFS) to identify and return all possible paths from the root node to each leaf node."
   ]
  },
  {
   "cell_type": "markdown",
   "metadata": {},
   "source": [
    "\n",
    "-   Create 1 new example that demonstrates you understand the problem. Trace/walkthrough 1 example that your partner made and explain it.\n"
   ]
  },
  {
   "cell_type": "code",
   "execution_count": 3,
   "metadata": {},
   "outputs": [],
   "source": [
    "# Your answer here\n",
    "\n",
    "#root1 = build_tree([1, 2, 2, 3, 5, 6, 7])\n",
    "#print(bt_path(root1))  # Output: [[1, 2, 3], [1, 2, 5], [1, 2, 6], [1, 2, 7]]\n",
    "\n",
    "#The code constructs binary trees from lists of values and finds all paths from the root to leaf nodes. For example, given the list `[1, 2, 2, 3, 5, 6, 7]`, the `build_tree` function creates a tree where `1` is the root, `2` and `2` are its children, and so on, forming a structured binary tree. The `bt_path` function then performs a DFS to explore all paths from the root to the leaves. Starting at the root (`1`), it traverses to each leaf node, recording paths like `[1, 2, 3]`, `[1, 2, 5]`, `[1, 2, 6]`, and `[1, 2, 7]`, demonstrating how all possible root-to-leaf paths are discovered and returned. This approach efficiently finds all such paths by leveraging recursive DFS and backtracking to explore each potential route in the tree."
   ]
  },
  {
   "cell_type": "markdown",
   "metadata": {},
   "source": [
    "\n",
    "-   Copy the solution your partner wrote. \n"
   ]
  },
  {
   "cell_type": "code",
   "execution_count": 4,
   "metadata": {},
   "outputs": [
    {
     "name": "stdout",
     "output_type": "stream",
     "text": [
      "[[1, 2, 3], [1, 2, 5], [1, 2, 6], [1, 2, 7]]\n",
      "[[10, 9, 8], [10, 7]]\n"
     ]
    }
   ],
   "source": [
    "# Your answer here\n",
    "from typing import List, Optional\n",
    "from collections import deque\n",
    "\n",
    "# Definition for a binary tree node.\n",
    "class TreeNode:\n",
    "    def __init__(self, val=0, left=None, right=None):\n",
    "        self.val = val\n",
    "        self.left = left\n",
    "        self.right = right\n",
    "\n",
    "def bt_path(root: Optional[TreeNode]) -> List[List[int]]:\n",
    "    def dfs(node, path, paths):\n",
    "        if not node:\n",
    "            return\n",
    "        path.append(node.val)\n",
    "        if not node.left and not node.right:  # If it's a leaf node\n",
    "            paths.append(list(path))\n",
    "        else:\n",
    "            dfs(node.left, path, paths)\n",
    "            dfs(node.right, path, paths)\n",
    "        path.pop()  # Backtrack\n",
    "\n",
    "    paths = []\n",
    "    dfs(root, [], paths)\n",
    "    return paths\n",
    "\n",
    "def build_tree(values: List[Optional[int]]) -> Optional[TreeNode]:\n",
    "    if not values:\n",
    "        return None\n",
    "    root = TreeNode(values[0])\n",
    "    queue = deque([root])\n",
    "    index = 1\n",
    "    while queue and index < len(values):\n",
    "        node = queue.popleft()\n",
    "        if index < len(values) and values[index] is not None:\n",
    "            node.left = TreeNode(values[index])\n",
    "            queue.append(node.left)\n",
    "        index += 1\n",
    "        if index < len(values) and values[index] is not None:\n",
    "            node.right = TreeNode(values[index])\n",
    "            queue.append(node.right)\n",
    "        index += 1\n",
    "    return root\n",
    "\n",
    "# Example usage:\n",
    "root1 = build_tree([1, 2, 2, 3, 5, 6, 7])\n",
    "print(bt_path(root1))  # Output: [[1, 2, 3], [1, 2, 5], [1, 2, 6], [1, 2, 7]]\n",
    "\n",
    "root2 = build_tree([10, 9, 7, 8])\n",
    "print(bt_path(root2))  # Output: [[10, 7], [10, 9, 8]]"
   ]
  },
  {
   "cell_type": "markdown",
   "metadata": {},
   "source": [
    "\n",
    "-   Explain why their solution works in your own words.\n"
   ]
  },
  {
   "cell_type": "code",
   "execution_count": 5,
   "metadata": {},
   "outputs": [],
   "source": [
    "# Your answer here\n",
    "#The solution works by first constructing a binary tree from a list of values using the `build_tree` function. This function uses a queue to facilitate level-order insertion of nodes, ensuring that the tree is built correctly based on the given values. \n",
    "\n",
    "#Once the tree is constructed, the `bt_path` function is used to find all root-to-leaf paths. This function employs a depth-first search (DFS) strategy with backtracking to explore all possible paths from the root to each leaf node. It keeps track of the current path in a list and adds this path to the final list of paths when a leaf node is reached. By using DFS, the function ensures that every potential path is explored, and backtracking allows it to efficiently navigate the tree without unnecessary re-computation. This combination of tree construction and DFS traversal effectively solves the problem of finding all root-to-leaf paths in a binary tree."
   ]
  },
  {
   "cell_type": "markdown",
   "metadata": {},
   "source": [
    "\n",
    "-   Explain the problem’s time and space complexity in your own words.\n"
   ]
  },
  {
   "cell_type": "code",
   "execution_count": 6,
   "metadata": {},
   "outputs": [],
   "source": [
    "# Your answer here\n",
    "\n",
    "### Time Complexity\n",
    "#The time complexity of the solution is O(N), where N is the number of nodes in the binary tree. This is because the `build_tree` function processes each node exactly once to construct the tree, and the `bt_path` function visits each node exactly once during the depth-first search traversal to record all root-to-leaf paths.\n",
    "\n",
    "### Space Complexity\n",
    "#The space complexity is O(N) for the space used to store the tree nodes and the additional space used for the recursive call stack during the DFS traversal. The worst-case scenario for the call stack is when the tree is completely unbalanced, resulting in a maximum depth of N. Additionally, the space required to store the paths is proportional to the number of nodes, leading to an overall space complexity of O(N)."
   ]
  },
  {
   "cell_type": "markdown",
   "metadata": {},
   "source": [
    "\n",
    "-   Critique your partner's solution, including explanation, and if there is anything that should be adjusted.\n"
   ]
  },
  {
   "cell_type": "code",
   "execution_count": 7,
   "metadata": {},
   "outputs": [],
   "source": [
    "# Your answer here\n",
    "#The solution effectively builds a binary tree from a list of values and finds all root-to-leaf paths using depth-first search (DFS). It correctly handles tree construction and path finding, demonstrating clear and efficient use of recursion and data structures. However, the solution could be improved by adding checks for edge cases, such as empty or all-`None` lists, and enhancing documentation with docstrings and comments to clarify the purpose and functionality of each function. These improvements would make the code more robust, user-friendly, and easier to understand."
   ]
  },
  {
   "cell_type": "markdown",
   "metadata": {},
   "source": [
    "\n",
    "## Part 3:\n",
    "\n",
    "Please write a 200 word reflection documenting your process from assignment 1, and your presentation and review experience with your partner at the bottom of the Jupyter Notebook under a new heading \"Reflection.\" Again, export this Notebook as pdf.\n"
   ]
  },
  {
   "cell_type": "markdown",
   "metadata": {},
   "source": [
    "### Reflection"
   ]
  },
  {
   "cell_type": "code",
   "execution_count": null,
   "metadata": {},
   "outputs": [],
   "source": [
    "# Your answer here\n",
    "### Reflection\n",
    "\n",
    "#In Assignment 1, my focus was on solving the problem of finding missing numbers in a list. I began by implementing a function to identify numbers missing from a sequence based on the maximum value in the input list. The approach involved creating a set of all possible numbers within the range and subtracting the set of provided numbers to determine the missing values. This method efficiently addressed the problem using set operations and handled cases where no numbers were missing by returning `-1`.\n",
    "\n",
    "#My partner's work involved building binary trees and finding all root-to-leaf paths. I observed that both assignments required careful consideration of edge cases and efficient use of data structures. The process underscored the importance of precise problem definition and robust solution design.\n",
    "\n",
    "#Reflecting on my own work, I see that enhancing the function with additional error handling and documentation would improve its robustness and usability. I also appreciate the opportunity to see how different problems are approached and solved, reinforcing the value of clear, well-documented code and thorough testing."
   ]
  },
  {
   "cell_type": "markdown",
   "metadata": {},
   "source": [
    "\n",
    "## Evaluation Criteria\n",
    "\n",
    "We are looking for the similar points as Assignment 1\n",
    "\n",
    "-   Problem is accurately stated\n",
    "\n",
    "-   New example is correct and easily understandable\n",
    "\n",
    "-   Correctness, time, and space complexity of the coding solution\n",
    "\n",
    "-   Clarity in explaining why the solution works, its time and space complexity\n",
    "\n",
    "-   Quality of critique of your partner's assignment, if necessary\n"
   ]
  },
  {
   "cell_type": "markdown",
   "metadata": {},
   "source": [
    "## Submission Information\n",
    "\n",
    "🚨 **Please review our [Assignment Submission Guide](https://github.com/UofT-DSI/onboarding/blob/main/onboarding_documents/submissions.md)** 🚨 for detailed instructions on how to format, branch, and submit your work. Following these guidelines is crucial for your submissions to be evaluated correctly.\n",
    "\n",
    "### Submission Parameters:\n",
    "* Submission Due Date: `HH:MM AM/PM - DD/MM/YYYY`\n",
    "* The branch name for your repo should be: `assignment-2`\n",
    "* What to submit for this assignment:\n",
    "    * This Jupyter Notebook (assignment_2.ipynb) should be populated and should be the only change in your pull request.\n",
    "* What the pull request link should look like for this assignment: `https://github.com/<your_github_username>/algorithms_and_data_structures/pull/<pr_id>`\n",
    "    * Open a private window in your browser. Copy and paste the link to your pull request into the address bar. Make sure you can see your pull request properly. This helps the technical facilitator and learning support staff review your submission easily.\n",
    "\n",
    "Checklist:\n",
    "- [ ] Created a branch with the correct naming convention.\n",
    "- [ ] Ensured that the repository is public.\n",
    "- [ ] Reviewed the PR description guidelines and adhered to them.\n",
    "- [ ] Verify that the link is accessible in a private browser window.\n",
    "\n",
    "If you encounter any difficulties or have questions, please don't hesitate to reach out to our team via our Slack at `#cohort-3-help`. Our Technical Facilitators and Learning Support staff are here to help you navigate any challenges.\n"
   ]
  }
 ],
 "metadata": {
  "kernelspec": {
   "display_name": "dsi_participant",
   "language": "python",
   "name": "python3"
  },
  "language_info": {
   "codemirror_mode": {
    "name": "ipython",
    "version": 3
   },
   "file_extension": ".py",
   "mimetype": "text/x-python",
   "name": "python",
   "nbconvert_exporter": "python",
   "pygments_lexer": "ipython3",
   "version": "3.9.15"
  }
 },
 "nbformat": 4,
 "nbformat_minor": 2
}
